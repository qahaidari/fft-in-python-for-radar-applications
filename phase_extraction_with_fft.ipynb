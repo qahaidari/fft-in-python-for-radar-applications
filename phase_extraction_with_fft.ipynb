{
  "nbformat": 4,
  "nbformat_minor": 0,
  "metadata": {
    "colab": {
      "name": "phase-extraction-with-fft.ipynb",
      "provenance": [],
      "authorship_tag": "ABX9TyMefKNpsjVmXrsW08V+Wi5Y",
      "include_colab_link": true
    },
    "kernelspec": {
      "name": "python3",
      "display_name": "Python 3"
    },
    "language_info": {
      "name": "python"
    }
  },
  "cells": [
    {
      "cell_type": "markdown",
      "metadata": {
        "id": "view-in-github",
        "colab_type": "text"
      },
      "source": [
        "<a href=\"https://colab.research.google.com/github/qahaidari/fft-in-python-for-radar-applications/blob/main/phase_extraction_with_fft.ipynb\" target=\"_parent\"><img src=\"https://colab.research.google.com/assets/colab-badge.svg\" alt=\"Open In Colab\"/></a>"
      ]
    },
    {
      "cell_type": "markdown",
      "metadata": {
        "id": "DasKWpVY9TO9"
      },
      "source": [
        "**How to extract phase information of a signal using FFT even with small number of sampled points**"
      ]
    },
    {
      "cell_type": "code",
      "metadata": {
        "id": "psyoi9Xj9dtT"
      },
      "source": [
        "import numpy as np\n",
        "import matplotlib.pyplot as plt"
      ],
      "execution_count": 17,
      "outputs": []
    },
    {
      "cell_type": "markdown",
      "metadata": {
        "id": "zit9ks6x-X5z"
      },
      "source": [
        "According to [Interpreting FFT results](https://www.gaussianwaves.com/2015/11/interpreting-fft-results-obtaining-magnitude-and-phase-information/), to extract phase information of a signal, first FFT is applied on the signal samples to extract the amplitude spectrum. Since the output of FFT is an array of complex values, the phase related to each frquency point can be calculated using the real and imaginary parts as follows:\n",
        "\n",
        "\\begin{align}\n",
        "\\phi = \\arctan(\\frac{\\text{imag}}{\\text{real}}) \n",
        "\\end{align}\n",
        "\n",
        "Not by looking at this phase spectrum, we can find out the phase of the frequency point at which max amplitude happens. Let's define an example signal\n",
        "\n",
        "\\begin{align}\n",
        "f(t) = \\text{cos}(2 \\pi f t + \\phi) \n",
        "\\end{align}\n",
        "\n",
        ", with the following sampling information:"
      ]
    },
    {
      "cell_type": "code",
      "metadata": {
        "id": "1G9UyDxyAV_p"
      },
      "source": [
        "N = 1000 # number of samples\n",
        "t = np.linspace(0,1,N) # time vector with cycle period of 1 second \n",
        "dt = 1.0/N # sampling time \n",
        "fs = 1.0/dt # corresponding sampling frequency\n",
        "omega = 2.0*np.pi*30.0 # our signal has main frequency 15 Hz \n",
        "phase = np.pi/2 # our signal phase"
      ],
      "execution_count": 46,
      "outputs": []
    },
    {
      "cell_type": "code",
      "metadata": {
        "id": "_jzGvK6-BlMm"
      },
      "source": [
        "f_t = np.cos(omega*t+phase)"
      ],
      "execution_count": 48,
      "outputs": []
    },
    {
      "cell_type": "markdown",
      "metadata": {
        "id": "OtPe-mqTCVNR"
      },
      "source": [
        "Since for real signals, negative frequencies after FFT are redundant, we should cut and use the positive frequencies only. In Python, `rfft` can be used to do FFT on real input data and negative frequency points are already excluded in its output; refer to [rfft documentation](https://numpy.org/doc/stable/reference/generated/numpy.fft.rfft.html#numpy.fft.rfft)."
      ]
    },
    {
      "cell_type": "code",
      "metadata": {
        "id": "g4tSA5y0CoC2"
      },
      "source": [
        "fft_f = np.fft.rfft(f_t) "
      ],
      "execution_count": 49,
      "outputs": []
    },
    {
      "cell_type": "markdown",
      "metadata": {
        "id": "_x4ClKAKDIEM"
      },
      "source": [
        "If $N$ is even, for real signals the FFT output has $(N/2) + 1$ points."
      ]
    },
    {
      "cell_type": "code",
      "metadata": {
        "id": "a5rgPx6zDa-u"
      },
      "source": [
        "k = np.arange(0, N/2 + 1)\n",
        "f_k = k * (fs / N) "
      ],
      "execution_count": 50,
      "outputs": []
    },
    {
      "cell_type": "code",
      "metadata": {
        "colab": {
          "base_uri": "https://localhost:8080/"
        },
        "id": "yBSv59RtEU6P",
        "outputId": "4edf16a4-ea6e-41eb-ee3e-6bf86af59310"
      },
      "source": [
        "len(f_k)"
      ],
      "execution_count": 22,
      "outputs": [
        {
          "output_type": "execute_result",
          "data": {
            "text/plain": [
              "501"
            ]
          },
          "metadata": {
            "tags": []
          },
          "execution_count": 22
        }
      ]
    },
    {
      "cell_type": "code",
      "metadata": {
        "id": "pL8Y51AvD0F6"
      },
      "source": [
        "# find phases and amplitudes for frequeny points\n",
        "angles = np.arctan2(fft_f.imag, fft_f.real) * 180/np.pi # in degree\n",
        "abs = 2/N * np.sqrt(fft_f.real**2 + fft_f.imag**2) # normalized amplitudes"
      ],
      "execution_count": 51,
      "outputs": []
    },
    {
      "cell_type": "code",
      "metadata": {
        "colab": {
          "base_uri": "https://localhost:8080/"
        },
        "id": "2igOEkYKEa2n",
        "outputId": "2538d275-a74d-4c6d-9de1-d882e0063714"
      },
      "source": [
        "len(abs)"
      ],
      "execution_count": 24,
      "outputs": [
        {
          "output_type": "execute_result",
          "data": {
            "text/plain": [
              "501"
            ]
          },
          "metadata": {
            "tags": []
          },
          "execution_count": 24
        }
      ]
    },
    {
      "cell_type": "code",
      "metadata": {
        "colab": {
          "base_uri": "https://localhost:8080/",
          "height": 353
        },
        "id": "h6l03j4xELfa",
        "outputId": "0a381c17-949c-4634-8b78-cea33ac8e5b1"
      },
      "source": [
        "plt.figure(figsize=(15, 5))\n",
        "plt.subplot(2, 1, 1)\n",
        "plt.title(\"Amplitude spectrum\")\n",
        "plt.plot(f_k[:50], abs[:50])\n",
        "plt.grid()\n",
        "plt.xlim([0, 50])\n",
        "plt.subplot(2, 1, 2)\n",
        "plt.title(\"Phase spectrum\")\n",
        "plt.plot(f_k[:50], angles[:50])\n",
        "plt.grid()\n",
        "plt.xlim([0, 50])\n",
        "plt.ylim([-180, 180])"
      ],
      "execution_count": 52,
      "outputs": [
        {
          "output_type": "execute_result",
          "data": {
            "text/plain": [
              "(-180.0, 180.0)"
            ]
          },
          "metadata": {
            "tags": []
          },
          "execution_count": 52
        },
        {
          "output_type": "display_data",
          "data": {
            "image/png": "[encoded data removed]",
            "text/plain": [
              "<Figure size 1080x360 with 2 Axes>"
            ]
          },
          "metadata": {
            "tags": [],
            "needs_background": "light"
          }
        }
      ]
    },
    {
      "cell_type": "code",
      "metadata": {
        "colab": {
          "base_uri": "https://localhost:8080/"
        },
        "id": "rGDu9epuEtvb",
        "outputId": "77ed0ae4-7a59-4194-d516-e75b57c3a24b"
      },
      "source": [
        "freq_max = f_k[np.argmax(abs)]\n",
        "phase_max = angles[np.argmax(abs)]\n",
        "print(\"f:\",freq_max,\"Hz | Phase:\",phase_max,\"°\")"
      ],
      "execution_count": 53,
      "outputs": [
        {
          "output_type": "stream",
          "text": [
            "f: 30.0 Hz | Phase: 95.39999999999914 °\n"
          ],
          "name": "stdout"
        }
      ]
    },
    {
      "cell_type": "markdown",
      "metadata": {
        "id": "kIpWjrvOFZc0"
      },
      "source": [
        "The signal phase was $\\frac{\\pi}{8} = 22.5^\\circ$. It is not accurately extracted. Let's see if we can make it better. \n",
        "\n",
        "The reason for not accurately extracting the phase information is small number of samples. Instead of increasing the number of samples, we use the following line, when defining the time sampling vector, to distribute the points evenly in `linspace` command; [More about linspace](https://numpy.org/doc/stable/reference/generated/numpy.linspace.html?highlight=linspace#numpy.linspace).\n",
        "\n",
        "`t, dt = np.linspace(0, 1, N, endpoint=False, retstep=True)`\n",
        "\n",
        "Then even with a small number of points, we can get an accurate value for the phase."
      ]
    },
    {
      "cell_type": "code",
      "metadata": {
        "colab": {
          "base_uri": "https://localhost:8080/"
        },
        "id": "ERgj53_d3jgb",
        "outputId": "eba121d3-dd58-4071-ee74-bfd92638f8cf"
      },
      "source": [
        "N = 1000\n",
        "t, dt = np.linspace(0, 1, N, endpoint=False, retstep=True) \n",
        "fs = 1.0/dt\n",
        "omega = 2.0*np.pi*30.0 \n",
        "phase = np.pi/2\n",
        "\n",
        "f_t = np.cos(omega*t+phase)\n",
        "fft_f = np.fft.rfft(f_t) \n",
        "k = np.arange(0, N/2 + 1)\n",
        "f_k = k * (fs / N) \n",
        "\n",
        "angles = np.arctan2(fft_f.imag, fft_f.real) * 180/np.pi\n",
        "abs = 2/N * np.sqrt(fft_f.real**2 + fft_f.imag**2)\n",
        "\n",
        "freq_max = f_k[np.argmax(abs)]\n",
        "phase_max = angles[np.argmax(abs)]\n",
        "print(\"f:\",freq_max,\"Hz | Phase:\",phase_max,\"°\")"
      ],
      "execution_count": 54,
      "outputs": [
        {
          "output_type": "stream",
          "text": [
            "f: 30.0 Hz | Phase: 89.99999999999933 °\n"
          ],
          "name": "stdout"
        }
      ]
    }
  ]
}